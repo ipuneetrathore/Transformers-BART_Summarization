{
 "cells": [
  {
   "cell_type": "code",
   "execution_count": null,
   "id": "3a68603e",
   "metadata": {},
   "outputs": [],
   "source": []
  },
  {
   "cell_type": "code",
   "execution_count": 2,
   "id": "30b3a7c0",
   "metadata": {},
   "outputs": [],
   "source": [
    "import nltk\n",
    "from nltk.corpus import stopwords\n",
    "from nltk.tokenize import word_tokenize\n",
    "from nltk.stem import WordNetLemmatizer\n",
    "from sklearn.feature_extraction.text import TfidfVectorizer\n",
    "from sklearn.metrics.pairwise import cosine_similarity"
   ]
  },
  {
   "cell_type": "code",
   "execution_count": 9,
   "id": "5e817df1",
   "metadata": {},
   "outputs": [
    {
     "name": "stdout",
     "output_type": "stream",
     "text": [
      "showing info https://raw.githubusercontent.com/nltk/nltk_data/gh-pages/index.xml\n"
     ]
    },
    {
     "data": {
      "text/plain": [
       "True"
      ]
     },
     "execution_count": 9,
     "metadata": {},
     "output_type": "execute_result"
    }
   ],
   "source": [
    "nltk.download()"
   ]
  },
  {
   "cell_type": "code",
   "execution_count": 107,
   "id": "75edff32",
   "metadata": {},
   "outputs": [],
   "source": [
    "ronaldo = \"\"\"\n",
    "Cristiano Ronaldo dos Santos Aveiro GOIH ComM (Portuguese pronunciation: [kɾiʃˈtjɐnu ʁɔˈnaldu]; born 5 February 1985) is a \n",
    "Portuguese professional footballer who plays as a forward for and captains both Saudi Pro League club Al Nassr and the Portugal \n",
    "national team. Widely regarded as one of the greatest players of all time, Ronaldo has won five Ballon d'Or awards[note 3] and \n",
    "four European Golden Shoes, the most by a European player. He has won 32 trophies in his career, including seven league titles, \n",
    "five UEFA Champions Leagues, the UEFA European Championship and the UEFA Nations League. Ronaldo holds the records for most \n",
    "appearances (183), goals (140) and assists (42) in the Champions League, goals in the European Championship (14), international \n",
    "goals (123) and international appearances (200). He is one of the few players to have made over 1,100 professional career \n",
    "appearances, and has scored over 800 official senior career goals for club and country, making him the highest goalscorer of \n",
    "all time.\n",
    "\"\"\"\n",
    "\n",
    "messi = \"\"\"\n",
    "Lionel Andrés Messi[note 1] (Spanish pronunciation: [ljoˈnel anˈdɾes ˈmesi] (listen); born 24 June 1987), also known as Leo \n",
    "Messi, is an Argentine professional footballer who plays as a forward for and captains both Major League Soccer club Inter \n",
    "Miami and the Argentina national team. Widely regarded as one of the greatest players of all time, Messi has won a record seven \n",
    "Ballon d'Or awards[note 2] and a record six European Golden Shoes, and in 2020 he was named to the Ballon d'Or Dream Team. Until\n",
    "leaving the club in 2021, he had spent his entire professional career with Barcelona, where he won a club-record 34 trophies, \n",
    "including ten La Liga titles, seven Copa del Rey titles and the UEFA Champions League four times.[note 3] With his country, \n",
    "he won the 2021 Copa América and the 2022 FIFA World Cup. A prolific goalscorer and creative playmaker, Messi holds the records \n",
    "for most goals in La Liga (474), most hat-tricks in La Liga (36) and the UEFA Champions League (eight), and most assists in La \n",
    "Liga (192) and the Copa América (17). He also has the most international goals by a South American male (103). Messi has scored \n",
    "over 800 senior career goals for club and country, and has the most goals by a player for a single club (672).\n",
    "\"\"\"\n",
    "\n",
    "elonMusk = \"\"\"\n",
    "Elon Reeve Musk (/ˈiːlɒn/ EE-lon; born June 28, 1971) is a business magnate and investor. He is the founder, chairman, CEO and \n",
    "chief technology officer of SpaceX; angel investor, CEO and product architect of Tesla, Inc.; owner and CTO of Twitter; founder \n",
    "of the Boring Company; co-founder of Neuralink and OpenAI; and president of the Musk Foundation. Musk is the wealthiest person \n",
    "in the world with an estimated net worth of US$239 billion as of July 2023, according to the Bloomberg Billionaires Index, and \n",
    "$248.8 billion according to Forbes's Real Time Billionaires list, primarily from his ownership stakes in Tesla and SpaceX.\n",
    "[4][5][6]\n",
    "Musk was born in Pretoria, South Africa, and briefly attended the University of Pretoria before moving to Canada at age 18, \n",
    "acquiring citizenship through his Canadian-born mother. Two years later, he matriculated at Queen's University in Kingston, \n",
    "Ontario, and two years after that transferred to the University of Pennsylvania, where he received bachelor's degrees in \n",
    "economics and physics. He moved to California in 1995 to attend Stanford University. After two days, he dropped out and, with \n",
    "his brother Kimbal, co-founded the online city guide software company Zip2. The startup was acquired by Compaq for $307 million \n",
    "in 1999, and with $12 million of the money he made, that same year Musk co-founded X.com, a direct bank. X.com merged with \n",
    "Confinity in 2000 to form PayPal.\n",
    "\"\"\""
   ]
  },
  {
   "cell_type": "markdown",
   "id": "183a834e",
   "metadata": {},
   "source": [
    "## Text similarity with Scikit-Learn"
   ]
  },
  {
   "cell_type": "code",
   "execution_count": 118,
   "id": "593b719c",
   "metadata": {},
   "outputs": [
    {
     "name": "stdout",
     "output_type": "stream",
     "text": [
      "Similarity between ronaldo, messi: 0.8553033787229057\n",
      "Similarity between messi, elonMusk: 0.15432021304705584\n",
      "Similarity between ronaldo, elonMusk: 0.09121506672518664\n"
     ]
    }
   ],
   "source": [
    "import sklearn\n",
    "from sklearn.feature_extraction.text import TfidfVectorizer\n",
    "from sklearn.metrics.pairwise import cosine_similarity\n",
    "\n",
    "# Convert the texts into TF-IDF vectors\n",
    "vectorizer = TfidfVectorizer(stop_words=\"english\", min_df=0.5, token_pattern=r'(?u)\\b[A-Za-z]+\\b')\n",
    "vectors = vectorizer.fit_transform([ronaldo, messi, elonMusk])\n",
    "\n",
    "# Calculate the cosine similarity between the vectors\n",
    "print(\"Similarity between Ronaldo, Messi:\",cosine_similarity(vectors[0],vectors[1])[0][0])\n",
    "print(\"Similarity between Messi, ElonMusk:\",cosine_similarity(vectors[1],vectors[2])[0][0])\n",
    "print(\"Similarity between Ronaldo, ElonMusk:\",cosine_similarity(vectors[0],vectors[2])[0][0]) "
   ]
  },
  {
   "cell_type": "code",
   "execution_count": 119,
   "id": "b4882e1c",
   "metadata": {},
   "outputs": [
    {
     "data": {
      "text/plain": [
       "array(['assists', 'awards', 'ballon', 'born', 'captains', 'career',\n",
       "       'champions', 'club', 'country', 'd', 'european', 'footballer',\n",
       "       'forward', 'goals', 'goalscorer', 'golden', 'greatest', 'holds',\n",
       "       'including', 'international', 'june', 'league', 'national', 'note',\n",
       "       'player', 'players', 'plays', 'professional', 'pronunciation',\n",
       "       'records', 'regarded', 'scored', 'senior', 'seven', 'shoes',\n",
       "       'south', 'team', 'time', 'titles', 'trophies', 'uefa', 'widely',\n",
       "       'won', 'world'], dtype=object)"
      ]
     },
     "execution_count": 119,
     "metadata": {},
     "output_type": "execute_result"
    }
   ],
   "source": [
    "vectorizer.get_feature_names_out()"
   ]
  },
  {
   "cell_type": "markdown",
   "id": "c0e14b89",
   "metadata": {},
   "source": [
    "## Text similarity with BERT"
   ]
  },
  {
   "cell_type": "code",
   "execution_count": 92,
   "id": "35864bdb",
   "metadata": {},
   "outputs": [],
   "source": [
    "# !pip install -U sentence-transformers"
   ]
  },
  {
   "cell_type": "code",
   "execution_count": 95,
   "id": "26deaa2c",
   "metadata": {},
   "outputs": [],
   "source": [
    "import transformers\n",
    "from sentence_transformers import SentenceTransformer\n",
    "\n",
    "model  = SentenceTransformer(\"bert-base-uncased\")"
   ]
  },
  {
   "cell_type": "code",
   "execution_count": 136,
   "id": "4935e9e6",
   "metadata": {},
   "outputs": [
    {
     "name": "stdout",
     "output_type": "stream",
     "text": [
      "Similarity between Ronaldo, Messi: 0.9653031\n",
      "Similarity between Messi, ElonMusk: 0.8352951\n",
      "Similarity between Ronaldo, ElonMusk: 0.8029305\n"
     ]
    }
   ],
   "source": [
    "embeddings =  model.encode([ronaldo, messi, elonMusk])\n",
    "print(\"Similarity between Ronaldo, Messi:\",cosine_similarity(embeddings)[0][1])\n",
    "print(\"Similarity between Messi, ElonMusk:\",cosine_similarity(embeddings)[1][2])\n",
    "print(\"Similarity between Ronaldo, ElonMusk:\",cosine_similarity(embeddings)[0][2])"
   ]
  },
  {
   "cell_type": "code",
   "execution_count": null,
   "id": "9e84ac1f",
   "metadata": {},
   "outputs": [],
   "source": []
  }
 ],
 "metadata": {
  "kernelspec": {
   "display_name": "Python 3 (ipykernel)",
   "language": "python",
   "name": "python3"
  },
  "language_info": {
   "codemirror_mode": {
    "name": "ipython",
    "version": 3
   },
   "file_extension": ".py",
   "mimetype": "text/x-python",
   "name": "python",
   "nbconvert_exporter": "python",
   "pygments_lexer": "ipython3",
   "version": "3.10.9"
  }
 },
 "nbformat": 4,
 "nbformat_minor": 5
}
