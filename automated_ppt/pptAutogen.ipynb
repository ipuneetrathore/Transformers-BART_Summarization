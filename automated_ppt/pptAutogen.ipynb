{
 "cells": [
  {
   "cell_type": "code",
   "execution_count": 4,
   "id": "6e7c59a0",
   "metadata": {},
   "outputs": [],
   "source": [
    "# !pip install python-pptx"
   ]
  },
  {
   "cell_type": "code",
   "execution_count": 395,
   "id": "a155b4c2",
   "metadata": {},
   "outputs": [],
   "source": [
    "from pptx import Presentation\n",
    "import pandas as pd\n",
    "import matplotlib.pyplot as plt\n",
    "from pptx.util import Inches, Pt\n",
    "from pptx.dml.color import RGBColor\n",
    "from pptx.enum.text import MSO_ANCHOR, MSO_AUTO_SIZE\n",
    "from pptx.dml.color import RGBColor\n",
    "import os, io"
   ]
  },
  {
   "cell_type": "code",
   "execution_count": 16,
   "id": "62912e7a",
   "metadata": {},
   "outputs": [
    {
     "data": {
      "text/html": [
       "<div>\n",
       "<style scoped>\n",
       "    .dataframe tbody tr th:only-of-type {\n",
       "        vertical-align: middle;\n",
       "    }\n",
       "\n",
       "    .dataframe tbody tr th {\n",
       "        vertical-align: top;\n",
       "    }\n",
       "\n",
       "    .dataframe thead th {\n",
       "        text-align: right;\n",
       "    }\n",
       "</style>\n",
       "<table border=\"1\" class=\"dataframe\">\n",
       "  <thead>\n",
       "    <tr style=\"text-align: right;\">\n",
       "      <th></th>\n",
       "      <th>Unnamed: 0</th>\n",
       "      <th>DATE</th>\n",
       "      <th>WEEK</th>\n",
       "      <th>DAY</th>\n",
       "      <th>ORDERS</th>\n",
       "      <th>LINES</th>\n",
       "      <th>PCS</th>\n",
       "      <th>SKU</th>\n",
       "      <th>CITIES</th>\n",
       "    </tr>\n",
       "  </thead>\n",
       "  <tbody>\n",
       "    <tr>\n",
       "      <th>0</th>\n",
       "      <td>0</td>\n",
       "      <td>2017-01-02</td>\n",
       "      <td>WEEK-1</td>\n",
       "      <td>MON</td>\n",
       "      <td>776</td>\n",
       "      <td>1367</td>\n",
       "      <td>1595.0</td>\n",
       "      <td>487</td>\n",
       "      <td>174</td>\n",
       "    </tr>\n",
       "    <tr>\n",
       "      <th>1</th>\n",
       "      <td>1</td>\n",
       "      <td>2017-01-03</td>\n",
       "      <td>WEEK-1</td>\n",
       "      <td>TUE</td>\n",
       "      <td>902</td>\n",
       "      <td>1550</td>\n",
       "      <td>1861.0</td>\n",
       "      <td>547</td>\n",
       "      <td>188</td>\n",
       "    </tr>\n",
       "  </tbody>\n",
       "</table>\n",
       "</div>"
      ],
      "text/plain": [
       "   Unnamed: 0        DATE    WEEK  DAY  ORDERS  LINES     PCS  SKU  CITIES\n",
       "0           0  2017-01-02  WEEK-1  MON     776   1367  1595.0  487     174\n",
       "1           1  2017-01-03  WEEK-1  TUE     902   1550  1861.0  547     188"
      ]
     },
     "execution_count": 16,
     "metadata": {},
     "output_type": "execute_result"
    }
   ],
   "source": [
    "tdf = pd.read_csv(\"C:\\\\Users\\\\Admin\\\\Downloads\\\\automate-powerpoint-main\\\\automate-powerpoint-main\\\\volumes per day.csv\")\n",
    "tdf.head(2)"
   ]
  },
  {
   "cell_type": "code",
   "execution_count": null,
   "id": "ef4b5f9b",
   "metadata": {},
   "outputs": [],
   "source": []
  },
  {
   "cell_type": "code",
   "execution_count": 179,
   "id": "84265a0e",
   "metadata": {},
   "outputs": [
    {
     "data": {
      "text/html": [
       "<div>\n",
       "<style scoped>\n",
       "    .dataframe tbody tr th:only-of-type {\n",
       "        vertical-align: middle;\n",
       "    }\n",
       "\n",
       "    .dataframe tbody tr th {\n",
       "        vertical-align: top;\n",
       "    }\n",
       "\n",
       "    .dataframe thead th {\n",
       "        text-align: right;\n",
       "    }\n",
       "</style>\n",
       "<table border=\"1\" class=\"dataframe\">\n",
       "  <thead>\n",
       "    <tr style=\"text-align: right;\">\n",
       "      <th></th>\n",
       "      <th>Unnamed: 0</th>\n",
       "      <th>ORDERS</th>\n",
       "      <th>LINES</th>\n",
       "      <th>PCS</th>\n",
       "      <th>SKU</th>\n",
       "      <th>CITIES</th>\n",
       "    </tr>\n",
       "  </thead>\n",
       "  <tbody>\n",
       "    <tr>\n",
       "      <th>count</th>\n",
       "      <td>30.000000</td>\n",
       "      <td>30.000000</td>\n",
       "      <td>30.000000</td>\n",
       "      <td>30.000000</td>\n",
       "      <td>30.00000</td>\n",
       "      <td>30.000000</td>\n",
       "    </tr>\n",
       "    <tr>\n",
       "      <th>mean</th>\n",
       "      <td>14.500000</td>\n",
       "      <td>1062.466667</td>\n",
       "      <td>2040.966667</td>\n",
       "      <td>2385.600000</td>\n",
       "      <td>534.70000</td>\n",
       "      <td>211.566667</td>\n",
       "    </tr>\n",
       "    <tr>\n",
       "      <th>std</th>\n",
       "      <td>8.803408</td>\n",
       "      <td>414.971103</td>\n",
       "      <td>794.702394</td>\n",
       "      <td>951.366516</td>\n",
       "      <td>111.64017</td>\n",
       "      <td>39.510525</td>\n",
       "    </tr>\n",
       "    <tr>\n",
       "      <th>min</th>\n",
       "      <td>0.000000</td>\n",
       "      <td>278.000000</td>\n",
       "      <td>550.000000</td>\n",
       "      <td>610.000000</td>\n",
       "      <td>243.00000</td>\n",
       "      <td>123.000000</td>\n",
       "    </tr>\n",
       "    <tr>\n",
       "      <th>25%</th>\n",
       "      <td>7.250000</td>\n",
       "      <td>790.500000</td>\n",
       "      <td>1557.000000</td>\n",
       "      <td>1825.000000</td>\n",
       "      <td>472.50000</td>\n",
       "      <td>189.000000</td>\n",
       "    </tr>\n",
       "    <tr>\n",
       "      <th>50%</th>\n",
       "      <td>14.500000</td>\n",
       "      <td>1022.000000</td>\n",
       "      <td>1966.000000</td>\n",
       "      <td>2334.500000</td>\n",
       "      <td>540.00000</td>\n",
       "      <td>207.500000</td>\n",
       "    </tr>\n",
       "    <tr>\n",
       "      <th>75%</th>\n",
       "      <td>21.750000</td>\n",
       "      <td>1431.750000</td>\n",
       "      <td>2698.500000</td>\n",
       "      <td>3126.750000</td>\n",
       "      <td>618.75000</td>\n",
       "      <td>248.250000</td>\n",
       "    </tr>\n",
       "    <tr>\n",
       "      <th>max</th>\n",
       "      <td>29.000000</td>\n",
       "      <td>1921.000000</td>\n",
       "      <td>3479.000000</td>\n",
       "      <td>4188.000000</td>\n",
       "      <td>694.00000</td>\n",
       "      <td>279.000000</td>\n",
       "    </tr>\n",
       "  </tbody>\n",
       "</table>\n",
       "</div>"
      ],
      "text/plain": [
       "       Unnamed: 0       ORDERS        LINES          PCS        SKU  \\\n",
       "count   30.000000    30.000000    30.000000    30.000000   30.00000   \n",
       "mean    14.500000  1062.466667  2040.966667  2385.600000  534.70000   \n",
       "std      8.803408   414.971103   794.702394   951.366516  111.64017   \n",
       "min      0.000000   278.000000   550.000000   610.000000  243.00000   \n",
       "25%      7.250000   790.500000  1557.000000  1825.000000  472.50000   \n",
       "50%     14.500000  1022.000000  1966.000000  2334.500000  540.00000   \n",
       "75%     21.750000  1431.750000  2698.500000  3126.750000  618.75000   \n",
       "max     29.000000  1921.000000  3479.000000  4188.000000  694.00000   \n",
       "\n",
       "           CITIES  \n",
       "count   30.000000  \n",
       "mean   211.566667  \n",
       "std     39.510525  \n",
       "min    123.000000  \n",
       "25%    189.000000  \n",
       "50%    207.500000  \n",
       "75%    248.250000  \n",
       "max    279.000000  "
      ]
     },
     "execution_count": 179,
     "metadata": {},
     "output_type": "execute_result"
    }
   ],
   "source": [
    "summDF = tdf.describe()\n",
    "summDF"
   ]
  },
  {
   "cell_type": "code",
   "execution_count": 261,
   "id": "d6680b32",
   "metadata": {},
   "outputs": [],
   "source": [
    "outPath = \"E:/pyDev/output/\""
   ]
  },
  {
   "cell_type": "markdown",
   "id": "7ea8ac5e",
   "metadata": {},
   "source": [
    "## Template slides"
   ]
  },
  {
   "cell_type": "code",
   "execution_count": 557,
   "id": "c110b01e",
   "metadata": {},
   "outputs": [],
   "source": [
    "prs = Presentation(outPath+\"template.pptx\")\n",
    "\n",
    "# 256: topic\n",
    "# 257: intro\n",
    "# 258: data_summary\n",
    "# 259: pdp_plot\n",
    "# 260: feature_imp\n",
    "# 261: model_validation\n",
    "# 262: thank_you\n"
   ]
  },
  {
   "cell_type": "code",
   "execution_count": null,
   "id": "19ca7741",
   "metadata": {},
   "outputs": [],
   "source": []
  },
  {
   "cell_type": "markdown",
   "id": "6657eb09",
   "metadata": {},
   "source": [
    "## Add model introduction"
   ]
  },
  {
   "cell_type": "code",
   "execution_count": 558,
   "id": "cfa5423e",
   "metadata": {},
   "outputs": [],
   "source": [
    "intro_slide = prs.slides[1]"
   ]
  },
  {
   "cell_type": "code",
   "execution_count": 559,
   "id": "5c7dfdc4",
   "metadata": {},
   "outputs": [
    {
     "name": "stdout",
     "output_type": "stream",
     "text": [
      "255 words found.\n"
     ]
    }
   ],
   "source": [
    "## Limit to 200 words\n",
    "\n",
    "intro_text = \"\"\"\n",
    "This article is a high-level and beginner-friendly introduction to machine learning models.\n",
    "Some basic knowledge of linear algebra, geometry, or statistics may be helpful, although not required; this article does not contain any mathematical implementation details and is written for readers newer to or unfamiliar with machine learning.\n",
    "We start by explaining what an algorithm is: a machine learning model is a type of algorithm, so understanding the concept of an algorithm is fundamental to understanding what a model actually is.\n",
    "This article is a high-level and beginner-friendly introduction to machine learning models.\n",
    "Some basic knowledge of linear algebra, geometry, or statistics may be helpful, although not required; this article does not contain any mathematical implementation details and is written for readers newer to or unfamiliar with machine learning.\n",
    "We start by explaining what an algorithm is: a machine learning model is a type of algorithm, so understanding the concept of an algorithm is fundamental to understanding what a model actually is.\n",
    "This article is a high-level and beginner-friendly introduction to machine learning models.\n",
    "Some basic knowledge of linear algebra, geometry, or statistics may be helpful, although not required; this article does not contain any mathematical implementation details and is written for readers newer to or unfamiliar with machine learning.\n",
    "We start by explaining what an algorithm is: a machine learning model is a type of algorithm, so understanding the concept of an algorithm is fundamental to understanding what a model actually is.\n",
    "This article is a high-level and beginner-friendly introduction to machine learning models.\n",
    "\"\"\"\n",
    "\n",
    "print(len(intro_text.split()), \"words found.\")"
   ]
  },
  {
   "cell_type": "code",
   "execution_count": 560,
   "id": "b127e723",
   "metadata": {},
   "outputs": [],
   "source": [
    "left = Inches(0.75)\n",
    "top = Inches(1.6)\n",
    "width = Inches(9)\n",
    "height = Inches(2)\n",
    "\n",
    "txBox = intro_slide.shapes.add_textbox(left, top, width, height)\n",
    "tf = txBox.text_frame\n",
    "tf.word_wrap = True\n",
    "\n",
    "p = tf.paragraphs[0]\n",
    "run = p.add_run()\n",
    "\n",
    "run.text = str(intro_text)\n",
    "\n",
    "p.font.size = Pt(15)"
   ]
  },
  {
   "cell_type": "markdown",
   "id": "a232e5cc",
   "metadata": {},
   "source": [
    "## Add data summary stats"
   ]
  },
  {
   "cell_type": "code",
   "execution_count": 561,
   "id": "67496e51",
   "metadata": {},
   "outputs": [],
   "source": [
    "data_stats_summry = prs.slides[2]"
   ]
  },
  {
   "cell_type": "code",
   "execution_count": null,
   "id": "f76fda86",
   "metadata": {},
   "outputs": [],
   "source": []
  },
  {
   "cell_type": "code",
   "execution_count": 562,
   "id": "2340967d",
   "metadata": {},
   "outputs": [],
   "source": [
    "def fillTable(df, tbl):\n",
    "    \n",
    "    colNames = list(df.columns)\n",
    "    \n",
    "    for Ci in range(df.shape[1]):\n",
    "        tbl.cell(0,Ci).text = str(colNames[Ci])\n",
    "        tbl.cell(0,Ci).text_frame.auto_size = MSO_AUTO_SIZE.SHAPE_TO_FIT_TEXT\n",
    "#         tbl.cell(0,Ci).fill.solid()\n",
    "#         tbl.cell(0,Ci).fill.fore_color.rgb = RGBColor(255, 255, 255)\n",
    "\n",
    "    \n",
    "    for Ri in range(df.shape[0]):\n",
    "        for Ci in range(df.shape[1]):\n",
    "            tbl.cell(Ri+1,Ci).text = str(round(df.iloc[Ri,Ci],4))\n",
    "            tbl.cell(Ri+1,Ci).text_frame.auto_size = MSO_AUTO_SIZE.SHAPE_TO_FIT_TEXT\n",
    "#             tbl.cell(Ri,Ci).fill.solid()\n",
    "#             tbl.cell(Ri,Ci).fill.fore_color.rgb = RGBColor(255, 255, 255)\n",
    "\n",
    "    return tbl"
   ]
  },
  {
   "cell_type": "code",
   "execution_count": null,
   "id": "064e555a",
   "metadata": {},
   "outputs": [],
   "source": []
  },
  {
   "cell_type": "code",
   "execution_count": 563,
   "id": "0b5c6aa6",
   "metadata": {},
   "outputs": [
    {
     "data": {
      "text/html": [
       "<div>\n",
       "<style scoped>\n",
       "    .dataframe tbody tr th:only-of-type {\n",
       "        vertical-align: middle;\n",
       "    }\n",
       "\n",
       "    .dataframe tbody tr th {\n",
       "        vertical-align: top;\n",
       "    }\n",
       "\n",
       "    .dataframe thead th {\n",
       "        text-align: right;\n",
       "    }\n",
       "</style>\n",
       "<table border=\"1\" class=\"dataframe\">\n",
       "  <thead>\n",
       "    <tr style=\"text-align: right;\">\n",
       "      <th></th>\n",
       "      <th>Unnamed: 0</th>\n",
       "      <th>ORDERS</th>\n",
       "      <th>LINES</th>\n",
       "      <th>PCS</th>\n",
       "      <th>SKU</th>\n",
       "      <th>CITIES</th>\n",
       "    </tr>\n",
       "  </thead>\n",
       "  <tbody>\n",
       "    <tr>\n",
       "      <th>count</th>\n",
       "      <td>30.000000</td>\n",
       "      <td>30.000000</td>\n",
       "      <td>30.000000</td>\n",
       "      <td>30.000000</td>\n",
       "      <td>30.00000</td>\n",
       "      <td>30.000000</td>\n",
       "    </tr>\n",
       "    <tr>\n",
       "      <th>mean</th>\n",
       "      <td>14.500000</td>\n",
       "      <td>1062.466667</td>\n",
       "      <td>2040.966667</td>\n",
       "      <td>2385.600000</td>\n",
       "      <td>534.70000</td>\n",
       "      <td>211.566667</td>\n",
       "    </tr>\n",
       "    <tr>\n",
       "      <th>std</th>\n",
       "      <td>8.803408</td>\n",
       "      <td>414.971103</td>\n",
       "      <td>794.702394</td>\n",
       "      <td>951.366516</td>\n",
       "      <td>111.64017</td>\n",
       "      <td>39.510525</td>\n",
       "    </tr>\n",
       "    <tr>\n",
       "      <th>min</th>\n",
       "      <td>0.000000</td>\n",
       "      <td>278.000000</td>\n",
       "      <td>550.000000</td>\n",
       "      <td>610.000000</td>\n",
       "      <td>243.00000</td>\n",
       "      <td>123.000000</td>\n",
       "    </tr>\n",
       "    <tr>\n",
       "      <th>25%</th>\n",
       "      <td>7.250000</td>\n",
       "      <td>790.500000</td>\n",
       "      <td>1557.000000</td>\n",
       "      <td>1825.000000</td>\n",
       "      <td>472.50000</td>\n",
       "      <td>189.000000</td>\n",
       "    </tr>\n",
       "    <tr>\n",
       "      <th>50%</th>\n",
       "      <td>14.500000</td>\n",
       "      <td>1022.000000</td>\n",
       "      <td>1966.000000</td>\n",
       "      <td>2334.500000</td>\n",
       "      <td>540.00000</td>\n",
       "      <td>207.500000</td>\n",
       "    </tr>\n",
       "    <tr>\n",
       "      <th>75%</th>\n",
       "      <td>21.750000</td>\n",
       "      <td>1431.750000</td>\n",
       "      <td>2698.500000</td>\n",
       "      <td>3126.750000</td>\n",
       "      <td>618.75000</td>\n",
       "      <td>248.250000</td>\n",
       "    </tr>\n",
       "    <tr>\n",
       "      <th>max</th>\n",
       "      <td>29.000000</td>\n",
       "      <td>1921.000000</td>\n",
       "      <td>3479.000000</td>\n",
       "      <td>4188.000000</td>\n",
       "      <td>694.00000</td>\n",
       "      <td>279.000000</td>\n",
       "    </tr>\n",
       "  </tbody>\n",
       "</table>\n",
       "</div>"
      ],
      "text/plain": [
       "       Unnamed: 0       ORDERS        LINES          PCS        SKU  \\\n",
       "count   30.000000    30.000000    30.000000    30.000000   30.00000   \n",
       "mean    14.500000  1062.466667  2040.966667  2385.600000  534.70000   \n",
       "std      8.803408   414.971103   794.702394   951.366516  111.64017   \n",
       "min      0.000000   278.000000   550.000000   610.000000  243.00000   \n",
       "25%      7.250000   790.500000  1557.000000  1825.000000  472.50000   \n",
       "50%     14.500000  1022.000000  1966.000000  2334.500000  540.00000   \n",
       "75%     21.750000  1431.750000  2698.500000  3126.750000  618.75000   \n",
       "max     29.000000  1921.000000  3479.000000  4188.000000  694.00000   \n",
       "\n",
       "           CITIES  \n",
       "count   30.000000  \n",
       "mean   211.566667  \n",
       "std     39.510525  \n",
       "min    123.000000  \n",
       "25%    189.000000  \n",
       "50%    207.500000  \n",
       "75%    248.250000  \n",
       "max    279.000000  "
      ]
     },
     "execution_count": 563,
     "metadata": {},
     "output_type": "execute_result"
    }
   ],
   "source": [
    "summDF"
   ]
  },
  {
   "cell_type": "code",
   "execution_count": 564,
   "id": "aa98ccc9",
   "metadata": {},
   "outputs": [],
   "source": [
    "left, top, width, height = Inches(1), Inches(2), Inches(8), Inches(1.5)\n",
    "tabRc, tabCc = summDF.shape[0]+1, summDF.shape[1]\n",
    "shape = data_stats_summry.shapes.add_table(tabRc, tabCc, left, top, width, height)\n",
    "table = shape.table\n",
    "table = fillTable(summDF, table)"
   ]
  },
  {
   "cell_type": "markdown",
   "id": "d00d6500",
   "metadata": {},
   "source": [
    "## PDP Plots"
   ]
  },
  {
   "cell_type": "code",
   "execution_count": 565,
   "id": "e2172a58",
   "metadata": {},
   "outputs": [],
   "source": [
    "pdp_slide = prs.slides[3]"
   ]
  },
  {
   "cell_type": "code",
   "execution_count": 566,
   "id": "99b91a09",
   "metadata": {},
   "outputs": [
    {
     "data": {
      "image/png": "[encoded data removed]",
      "text/plain": [
       "<Figure size 640x480 with 1 Axes>"
      ]
     },
     "metadata": {},
     "output_type": "display_data"
    }
   ],
   "source": [
    "plt.plot(summDF.iloc[i])\n",
    "plt.savefig('tmp_plt.png', bbox_inches='tight')"
   ]
  },
  {
   "cell_type": "code",
   "execution_count": 567,
   "id": "1d3f31c3",
   "metadata": {},
   "outputs": [],
   "source": [
    "img = \"tmp_plt.png\"\n",
    "left, top, width, height = Inches(1), Inches(1.5), Inches(5), Inches(5)\n",
    "pic = pdp_slide.shapes.add_picture(img, left, top, width, height)"
   ]
  },
  {
   "cell_type": "markdown",
   "id": "1551136d",
   "metadata": {},
   "source": [
    "## Feature Importance"
   ]
  },
  {
   "cell_type": "code",
   "execution_count": 568,
   "id": "6a60dfc1",
   "metadata": {},
   "outputs": [],
   "source": [
    "FE_slide = prs.slides[4]"
   ]
  },
  {
   "cell_type": "code",
   "execution_count": 569,
   "id": "f2276978",
   "metadata": {},
   "outputs": [
    {
     "data": {
      "image/png": "[encoded data removed]",
      "text/plain": [
       "<Figure size 640x480 with 1 Axes>"
      ]
     },
     "metadata": {},
     "output_type": "display_data"
    }
   ],
   "source": [
    "plt.barh(list(range(len(summDF.iloc[i]))), list(summDF.iloc[i].sort_values(ascending=True).values),color ='blue')\n",
    "plt.savefig('tmp_plt.png', bbox_inches='tight')\n",
    "\n",
    "img = \"tmp_plt.png\"\n",
    "left, top, width, height = Inches(1), Inches(1.5), Inches(5), Inches(5)\n",
    "pic = FE_slide.shapes.add_picture(img, left, top, width, height)"
   ]
  },
  {
   "cell_type": "code",
   "execution_count": 570,
   "id": "0555838e",
   "metadata": {},
   "outputs": [],
   "source": [
    "prs.save(outPath+'tmp_test.pptx')"
   ]
  },
  {
   "cell_type": "code",
   "execution_count": null,
   "id": "8e0c8f63",
   "metadata": {},
   "outputs": [],
   "source": []
  },
  {
   "cell_type": "code",
   "execution_count": null,
   "id": "8fc11a41",
   "metadata": {},
   "outputs": [],
   "source": []
  },
  {
   "cell_type": "code",
   "execution_count": null,
   "id": "6c01b3a1",
   "metadata": {},
   "outputs": [],
   "source": []
  },
  {
   "cell_type": "code",
   "execution_count": 96,
   "id": "ba735a0b",
   "metadata": {},
   "outputs": [],
   "source": []
  },
  {
   "cell_type": "code",
   "execution_count": null,
   "id": "a7790ee2",
   "metadata": {},
   "outputs": [],
   "source": []
  }
 ],
 "metadata": {
  "kernelspec": {
   "display_name": "Python 3 (ipykernel)",
   "language": "python",
   "name": "python3"
  },
  "language_info": {
   "codemirror_mode": {
    "name": "ipython",
    "version": 3
   },
   "file_extension": ".py",
   "mimetype": "text/x-python",
   "name": "python",
   "nbconvert_exporter": "python",
   "pygments_lexer": "ipython3",
   "version": "3.10.9"
  }
 },
 "nbformat": 4,
 "nbformat_minor": 5
}
